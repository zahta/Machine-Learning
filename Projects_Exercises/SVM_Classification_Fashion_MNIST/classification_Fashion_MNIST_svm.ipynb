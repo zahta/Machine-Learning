{
 "cells": [
  {
   "cell_type": "markdown",
   "metadata": {
    "colab_type": "text",
    "id": "Saa5yhRd0mQM"
   },
   "source": [
    "# Classification on the [Fashion-MNIST](https://github.com/zalandoresearch/fashion-mnist) dataset using SVM with Python's Scikit-Learn\n",
    "by [Zahra Taheri](https://github.com/zahta) (26 June 2020)"
   ]
  },
  {
   "cell_type": "markdown",
   "metadata": {
    "colab_type": "text",
    "id": "e9tpS5KFNn_9"
   },
   "source": [
    "### Preperation for Google colab"
   ]
  },
  {
   "cell_type": "code",
   "execution_count": 1,
   "metadata": {
    "colab": {
     "base_uri": "https://localhost:8080/",
     "height": 122
    },
    "colab_type": "code",
    "id": "IwPpfl5z0mQT",
    "outputId": "1dc1afbd-474a-4af4-c95b-3e3cf40172dd"
   },
   "outputs": [
    {
     "name": "stdout",
     "output_type": "stream",
     "text": [
      "Go to this URL in a browser: https://accounts.google.com/o/oauth2/auth?client_id=947318989803-6bn6qk8qdgf4n4g3pfee6491hc0brc4i.apps.googleusercontent.com&redirect_uri=urn%3aietf%3awg%3aoauth%3a2.0%3aoob&response_type=code&scope=email%20https%3a%2f%2fwww.googleapis.com%2fauth%2fdocs.test%20https%3a%2f%2fwww.googleapis.com%2fauth%2fdrive%20https%3a%2f%2fwww.googleapis.com%2fauth%2fdrive.photos.readonly%20https%3a%2f%2fwww.googleapis.com%2fauth%2fpeopleapi.readonly\n",
      "\n",
      "Enter your authorization code:\n",
      "··········\n",
      "Mounted at /content/drive\n"
     ]
    }
   ],
   "source": [
    "from google.colab import drive\n",
    "drive.mount('/content/drive')"
   ]
  },
  {
   "cell_type": "code",
   "execution_count": 2,
   "metadata": {
    "colab": {
     "base_uri": "https://localhost:8080/",
     "height": 34
    },
    "colab_type": "code",
    "id": "Zg41tyStjIBj",
    "outputId": "9879e9e8-f4d6-4ea0-a884-3850971b7c4d"
   },
   "outputs": [
    {
     "name": "stdout",
     "output_type": "stream",
     "text": [
      "unzip files!\n"
     ]
    }
   ],
   "source": [
    "#unzip dataset files from google drive to content folder in colab\n",
    "\n",
    "import os\n",
    "\n",
    "if os.path.exists(\"/content/Fashion-MNIST/\")==False:\n",
    "  print(\"unzip files!\")\n",
    "  !unzip -q \"/content/drive/My Drive/Fashion-MNIST.zip\"\n",
    "\n",
    "mypath=\"/content/Fashion-MNIST/\""
   ]
  },
  {
   "cell_type": "code",
   "execution_count": 3,
   "metadata": {
    "colab": {
     "base_uri": "https://localhost:8080/",
     "height": 34
    },
    "colab_type": "code",
    "id": "KR39sJ8l0mRk",
    "outputId": "e1557aed-9281-4125-fab7-f2bd5065939c"
   },
   "outputs": [
    {
     "name": "stdout",
     "output_type": "stream",
     "text": [
      "/content/Fashion-MNIST\n"
     ]
    }
   ],
   "source": [
    "#Define path to the directory\n",
    " \n",
    "os.chdir(mypath)\n",
    "\n",
    "print(os.getcwd())"
   ]
  },
  {
   "cell_type": "markdown",
   "metadata": {
    "colab_type": "text",
    "id": "u_O6dsNy0mRK"
   },
   "source": [
    "### Import libraries"
   ]
  },
  {
   "cell_type": "code",
   "execution_count": 4,
   "metadata": {
    "colab": {},
    "colab_type": "code",
    "id": "Y3VbdIvl0mRN"
   },
   "outputs": [],
   "source": [
    "import numpy as np\n",
    "import pandas as pd\n",
    "\n",
    "import matplotlib as mpl\n",
    "import matplotlib.pyplot as plt\n",
    "\n",
    "import os"
   ]
  },
  {
   "cell_type": "markdown",
   "metadata": {
    "colab_type": "text",
    "id": "q-GvNeGE0mRY"
   },
   "source": [
    "## Loading Fashion-MNIST into NumPy arrays"
   ]
  },
  {
   "cell_type": "code",
   "execution_count": 5,
   "metadata": {
    "colab": {},
    "colab_type": "code",
    "id": "Rx3IlP5i0mR2"
   },
   "outputs": [],
   "source": [
    "from mlxtend.data import loadlocal_mnist\n",
    "\n",
    "#os.chdir(\"C:/Users/Zahra/My colab files/Fashion-MNIST/\")\n",
    "\n",
    "#load train_data and train_labels\n",
    "train_data, train_labels= loadlocal_mnist(\n",
    "        images_path='train-images-idx3-ubyte', \n",
    "        labels_path='train-labels-idx1-ubyte')\n",
    " \n",
    "#load test_data and test_labels\n",
    "test_data, test_labels= loadlocal_mnist(\n",
    "        images_path='t10k-images-idx3-ubyte', \n",
    "        labels_path='t10k-labels-idx1-ubyte')"
   ]
  },
  {
   "cell_type": "code",
   "execution_count": 6,
   "metadata": {
    "colab": {
     "base_uri": "https://localhost:8080/",
     "height": 34
    },
    "colab_type": "code",
    "id": "XUMlwzPi0mSC",
    "outputId": "c02143a9-427e-4d42-b6f9-d840158ffbdd"
   },
   "outputs": [
    {
     "name": "stdout",
     "output_type": "stream",
     "text": [
      "Dimensions: 60000 x 784\n"
     ]
    }
   ],
   "source": [
    "print('Dimensions: %s x %s' % (train_data.shape[0], train_data.shape[1]))\n",
    "#print('\\n1st row', train_data[0])"
   ]
  },
  {
   "cell_type": "code",
   "execution_count": 7,
   "metadata": {
    "colab": {
     "base_uri": "https://localhost:8080/",
     "height": 51
    },
    "colab_type": "code",
    "id": "6JD5-QX00mSM",
    "outputId": "813e3529-9ac7-4d43-b8e9-ac96500c6bb4"
   },
   "outputs": [
    {
     "name": "stdout",
     "output_type": "stream",
     "text": [
      "(60000, 784)\n",
      "(60000,)\n"
     ]
    }
   ],
   "source": [
    "print(train_data.shape)   # 28*28=784\n",
    "print(train_labels.shape)"
   ]
  },
  {
   "cell_type": "code",
   "execution_count": 8,
   "metadata": {
    "colab": {
     "base_uri": "https://localhost:8080/",
     "height": 248
    },
    "colab_type": "code",
    "id": "7C9kffTe0mSW",
    "outputId": "85319504-8a4a-40ae-f9be-d80e476b0634"
   },
   "outputs": [
    {
     "data": {
      "image/png": "[encoded data removed]",
      "text/plain": [
       "<Figure size 432x288 with 1 Axes>"
      ]
     },
     "metadata": {
      "needs_background": "light",
      "tags": []
     },
     "output_type": "display_data"
    }
   ],
   "source": [
    "some_digit = train_data[11000]\n",
    "some_digit_image = some_digit.reshape(28, 28)\n",
    "plt.imshow(some_digit_image, cmap = mpl.cm.binary,interpolation=\"nearest\")\n",
    "plt.axis(\"off\")\n",
    "plt.show()"
   ]
  },
  {
   "cell_type": "markdown",
   "metadata": {
    "colab_type": "text",
    "id": "_KAFsK2q0mSg"
   },
   "source": [
    "## Preparation of the dataset"
   ]
  },
  {
   "cell_type": "code",
   "execution_count": 10,
   "metadata": {
    "colab": {},
    "colab_type": "code",
    "id": "L6ypE0Tr0mSi"
   },
   "outputs": [],
   "source": [
    "# Normalize the pixel values\n",
    "\n",
    "def prep_pix(train, test):\n",
    "    train_norm = train.astype('float32') # convert from integers to floats\n",
    "    test_norm = test.astype('float32')\n",
    "    train_norm = train_norm / 255.0 # normalize to range 0-1\n",
    "    test_norm = test_norm / 255.0\n",
    "    return train_norm, test_norm"
   ]
  },
  {
   "cell_type": "code",
   "execution_count": 11,
   "metadata": {
    "colab": {
     "base_uri": "https://localhost:8080/",
     "height": 34
    },
    "colab_type": "code",
    "id": "t1odtq1t0mSx",
    "outputId": "e263a789-ff20-4ebf-9779-d425aeb12e7c"
   },
   "outputs": [
    {
     "data": {
      "text/plain": [
       "(60000, 784)"
      ]
     },
     "execution_count": 11,
     "metadata": {
      "tags": []
     },
     "output_type": "execute_result"
    }
   ],
   "source": [
    "X_train,X_test=prep_pix(train_data,test_data)\n",
    "X_train.shape"
   ]
  },
  {
   "cell_type": "code",
   "execution_count": 12,
   "metadata": {
    "colab": {},
    "colab_type": "code",
    "id": "ciOXTiwm0mS9"
   },
   "outputs": [],
   "source": [
    "y_train=train_labels\n",
    "y_test=test_labels"
   ]
  },
  {
   "cell_type": "code",
   "execution_count": 13,
   "metadata": {
    "colab": {},
    "colab_type": "code",
    "id": "pXqqxCUu0mTM"
   },
   "outputs": [],
   "source": [
    "# Data standardization\n",
    "#from sklearn.preprocessing import StandardScaler\n",
    "\n",
    "#scaler = StandardScaler()\n",
    "#X_train = scaler.fit_transform(X_train)\n",
    "#X_test= scaler.fit_transform(X_test)"
   ]
  },
  {
   "cell_type": "markdown",
   "metadata": {
    "colab_type": "text",
    "id": "7KJx14EzKk91"
   },
   "source": [
    "## Train and test Support vector machine models"
   ]
  },
  {
   "cell_type": "code",
   "execution_count": 14,
   "metadata": {
    "colab": {},
    "colab_type": "code",
    "id": "GeXsnQmUNoAr"
   },
   "outputs": [],
   "source": [
    "from sklearn.svm import SVC\n",
    "from sklearn.metrics import accuracy_score "
   ]
  },
  {
   "cell_type": "code",
   "execution_count": null,
   "metadata": {
    "colab": {
     "base_uri": "https://localhost:8080/",
     "height": 34
    },
    "colab_type": "code",
    "id": "pymX3eW_iiIL",
    "outputId": "2f5d5b67-f602-4134-ec0b-7bbb432c4d55"
   },
   "outputs": [
    {
     "name": "stdout",
     "output_type": "stream",
     "text": [
      "SVC 0.8463\n"
     ]
    }
   ],
   "source": [
    "svm_clf1 = SVC(C=1, kernel=\"linear\", random_state=42)\n",
    "svm_clf1.fit(X_train, y_train)\n",
    "y_pred = svm_clf1.predict(X_test)\n",
    "print(svm_clf1.__class__.__name__, accuracy_score(y_test, y_pred))"
   ]
  },
  {
   "cell_type": "code",
   "execution_count": null,
   "metadata": {
    "colab": {
     "base_uri": "https://localhost:8080/",
     "height": 34
    },
    "colab_type": "code",
    "id": "hgndyj7X0mTl",
    "outputId": "c6d75a97-b07d-4e5b-d011-c6c6fd588f2d"
   },
   "outputs": [
    {
     "name": "stdout",
     "output_type": "stream",
     "text": [
      "SVC 0.863\n"
     ]
    }
   ],
   "source": [
    "svm_clf2 = SVC(C=1, kernel=\"poly\", random_state=42)\n",
    "svm_clf2.fit(X_train, y_train)\n",
    "y_pred = svm_clf2.predict(X_test)\n",
    "print(svm_clf2.__class__.__name__, accuracy_score(y_test, y_pred))"
   ]
  },
  {
   "cell_type": "code",
   "execution_count": null,
   "metadata": {
    "colab": {
     "base_uri": "https://localhost:8080/",
     "height": 34
    },
    "colab_type": "code",
    "id": "Trv5inLl0mTw",
    "outputId": "c1ba1c40-6a17-4d6f-bcd9-36d8a620740b"
   },
   "outputs": [
    {
     "name": "stdout",
     "output_type": "stream",
     "text": [
      "SVC 0.8829\n"
     ]
    }
   ],
   "source": [
    "svm_clf3 = SVC(C=1, kernel=\"rbf\", random_state=42)\n",
    "svm_clf3.fit(X_train, y_train)\n",
    "y_pred = svm_clf3.predict(X_test)\n",
    "print(svm_clf3.__class__.__name__, accuracy_score(y_test, y_pred))"
   ]
  },
  {
   "cell_type": "code",
   "execution_count": null,
   "metadata": {
    "colab": {
     "base_uri": "https://localhost:8080/",
     "height": 34
    },
    "colab_type": "code",
    "id": "UkJLr4Cg0mT-",
    "outputId": "32224640-8d31-4c56-eb9b-8f8419aa30f1"
   },
   "outputs": [
    {
     "name": "stdout",
     "output_type": "stream",
     "text": [
      "SVC 0.8378\n"
     ]
    }
   ],
   "source": [
    "svm_clf4 = SVC(C=10, kernel=\"linear\", random_state=42)\n",
    "svm_clf4.fit(X_train, y_train)\n",
    "y_pred = svm_clf4.predict(X_test)\n",
    "print(svm_clf4.__class__.__name__, accuracy_score(y_test, y_pred))"
   ]
  },
  {
   "cell_type": "code",
   "execution_count": null,
   "metadata": {
    "colab": {
     "base_uri": "https://localhost:8080/",
     "height": 34
    },
    "colab_type": "code",
    "id": "_0CD_Fee0mUH",
    "outputId": "9f8b8ab0-0508-4ba6-f53a-2c30c7eb5fc8"
   },
   "outputs": [
    {
     "name": "stdout",
     "output_type": "stream",
     "text": [
      "SVC 0.8808\n"
     ]
    }
   ],
   "source": [
    "svm_clf5 = SVC(C=10, kernel=\"poly\", random_state=42)\n",
    "svm_clf5.fit(X_train, y_train)\n",
    "y_pred = svm_clf5.predict(X_test)\n",
    "print(svm_clf5.__class__.__name__, accuracy_score(y_test, y_pred))"
   ]
  },
  {
   "cell_type": "code",
   "execution_count": null,
   "metadata": {
    "colab": {
     "base_uri": "https://localhost:8080/",
     "height": 34
    },
    "colab_type": "code",
    "id": "hIGkxDJw0mUQ",
    "outputId": "dd6b4ff8-6903-490d-c507-4386e27cbf02"
   },
   "outputs": [
    {
     "name": "stdout",
     "output_type": "stream",
     "text": [
      "SVC 0.9002\n"
     ]
    }
   ],
   "source": [
    "svm_clf6 = SVC(C=10, kernel=\"rbf\", random_state=42)\n",
    "svm_clf6.fit(X_train, y_train)\n",
    "y_pred = svm_clf6.predict(X_test)\n",
    "print(svm_clf6.__class__.__name__, accuracy_score(y_test, y_pred))"
   ]
  },
  {
   "cell_type": "markdown",
   "metadata": {
    "colab_type": "text",
    "id": "Mce0pHHnNoBF"
   },
   "source": [
    "##  With Principal Component Analysis (PCA)"
   ]
  },
  {
   "cell_type": "code",
   "execution_count": 15,
   "metadata": {
    "colab": {},
    "colab_type": "code",
    "id": "Cwb5Q6CPNoBG"
   },
   "outputs": [],
   "source": [
    "from sklearn.decomposition import PCA\n",
    "\n",
    "pca = PCA(n_components=0.95)\n",
    "\n",
    "X_train = pca.fit_transform(X_train)\n",
    "X_test = pca.transform(X_test)"
   ]
  },
  {
   "cell_type": "code",
   "execution_count": 16,
   "metadata": {
    "colab": {
     "base_uri": "https://localhost:8080/",
     "height": 34
    },
    "colab_type": "code",
    "id": "Su7h02i0NoBL",
    "outputId": "797d175f-0d26-4eb4-a5d1-acb697c84010"
   },
   "outputs": [
    {
     "data": {
      "text/plain": [
       "(60000, 187)"
      ]
     },
     "execution_count": 16,
     "metadata": {
      "tags": []
     },
     "output_type": "execute_result"
    }
   ],
   "source": [
    "X_train.shape"
   ]
  },
  {
   "cell_type": "code",
   "execution_count": null,
   "metadata": {
    "colab": {},
    "colab_type": "code",
    "id": "Nlu7k0LENoBO",
    "outputId": "e566faa7-23d8-492f-921a-0e7a7d47d625"
   },
   "outputs": [
    {
     "name": "stdout",
     "output_type": "stream",
     "text": [
      "SVC 0.853\n"
     ]
    }
   ],
   "source": [
    "svm_clf1 = SVC(C=1, kernel=\"linear\", random_state=42)\n",
    "svm_clf1.fit(X_train, y_train)\n",
    "y_pred = svm_clf1.predict(X_test)\n",
    "print(svm_clf1.__class__.__name__, accuracy_score(y_test, y_pred))"
   ]
  },
  {
   "cell_type": "code",
   "execution_count": null,
   "metadata": {
    "colab": {},
    "colab_type": "code",
    "id": "dbR5APfRNoBQ",
    "outputId": "538a8881-7e5f-4746-fc4f-ee225a35804a"
   },
   "outputs": [
    {
     "name": "stdout",
     "output_type": "stream",
     "text": [
      "SVC 0.8804\n"
     ]
    }
   ],
   "source": [
    "svm_clf2 = SVC(C=1, kernel=\"poly\", random_state=42)\n",
    "svm_clf2.fit(X_train, y_train)\n",
    "y_pred = svm_clf2.predict(X_test)\n",
    "print(svm_clf2.__class__.__name__, accuracy_score(y_test, y_pred))"
   ]
  },
  {
   "cell_type": "code",
   "execution_count": null,
   "metadata": {
    "colab": {},
    "colab_type": "code",
    "id": "dsjB7gVMNoBT",
    "outputId": "9f23c791-8c4a-4452-c309-6436bd37aef4"
   },
   "outputs": [
    {
     "name": "stdout",
     "output_type": "stream",
     "text": [
      "SVC 0.886\n"
     ]
    }
   ],
   "source": [
    "svm_clf3 = SVC(C=1, kernel=\"rbf\", random_state=42)\n",
    "svm_clf3.fit(X_train, y_train)\n",
    "y_pred = svm_clf3.predict(X_test)\n",
    "print(svm_clf3.__class__.__name__, accuracy_score(y_test, y_pred))"
   ]
  },
  {
   "cell_type": "code",
   "execution_count": null,
   "metadata": {
    "colab": {},
    "colab_type": "code",
    "id": "_J6KNOvwNoBX",
    "outputId": "61dfa7de-e1da-4f4b-fe6d-f76905a73228"
   },
   "outputs": [
    {
     "name": "stdout",
     "output_type": "stream",
     "text": [
      "SVC 0.852\n"
     ]
    }
   ],
   "source": [
    "svm_clf4 = SVC(C=10, kernel=\"linear\", random_state=42)\n",
    "svm_clf4.fit(X_train, y_train)\n",
    "y_pred = svm_clf4.predict(X_test)\n",
    "print(svm_clf4.__class__.__name__, accuracy_score(y_test, y_pred))"
   ]
  },
  {
   "cell_type": "code",
   "execution_count": 17,
   "metadata": {
    "colab": {
     "base_uri": "https://localhost:8080/",
     "height": 34
    },
    "colab_type": "code",
    "id": "bwY7l7wSNoBZ",
    "outputId": "8aa184b1-7554-4b2b-e08a-580697f2334f"
   },
   "outputs": [
    {
     "name": "stdout",
     "output_type": "stream",
     "text": [
      "SVC 0.8976\n"
     ]
    }
   ],
   "source": [
    "svm_clf5 = SVC(C=10, kernel=\"poly\", random_state=42)\n",
    "svm_clf5.fit(X_train, y_train)\n",
    "y_pred = svm_clf5.predict(X_test)\n",
    "print(svm_clf5.__class__.__name__, accuracy_score(y_test, y_pred))"
   ]
  },
  {
   "cell_type": "code",
   "execution_count": 18,
   "metadata": {
    "colab": {
     "base_uri": "https://localhost:8080/",
     "height": 34
    },
    "colab_type": "code",
    "id": "BnC6aQfsNoBc",
    "outputId": "e3994675-beaa-4f89-cfa3-c103abeed8f9"
   },
   "outputs": [
    {
     "name": "stdout",
     "output_type": "stream",
     "text": [
      "SVC 0.902\n"
     ]
    }
   ],
   "source": [
    "svm_clf6 = SVC(C=10, kernel=\"rbf\", random_state=42)\n",
    "svm_clf6.fit(X_train, y_train)\n",
    "y_pred = svm_clf6.predict(X_test)\n",
    "print(svm_clf6.__class__.__name__, accuracy_score(y_test, y_pred))"
   ]
  },
  {
   "cell_type": "code",
   "execution_count": 19,
   "metadata": {
    "colab": {
     "base_uri": "https://localhost:8080/",
     "height": 34
    },
    "colab_type": "code",
    "id": "VR-VYkLENoBl",
    "outputId": "7dfcd2d6-e389-4294-fc51-9222e371bbbe"
   },
   "outputs": [
    {
     "name": "stdout",
     "output_type": "stream",
     "text": [
      "SVC 0.8561\n"
     ]
    }
   ],
   "source": [
    "svm_clf7 = SVC(C=0.1, kernel=\"linear\", random_state=42)\n",
    "svm_clf7.fit(X_train, y_train)\n",
    "y_pred = svm_clf7.predict(X_test)\n",
    "print(svm_clf7.__class__.__name__, accuracy_score(y_test, y_pred))"
   ]
  }
 ],
 "metadata": {
  "colab": {
   "collapsed_sections": [],
   "name": "classification_Fashion_MNIST_svm.ipynb",
   "provenance": []
  },
  "kernelspec": {
   "display_name": "Python 3.8.2",
   "language": "python",
   "name": "py38"
  },
  "language_info": {
   "codemirror_mode": {
    "name": "ipython",
    "version": 3
   },
   "file_extension": ".py",
   "mimetype": "text/x-python",
   "name": "python",
   "nbconvert_exporter": "python",
   "pygments_lexer": "ipython3",
   "version": "3.8.2"
  }
 },
 "nbformat": 4,
 "nbformat_minor": 4
}

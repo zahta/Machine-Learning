{
  "cells": [
    {
      "cell_type": "markdown",
      "metadata": {
        "colab_type": "text",
        "id": "S0NSI5sgxLYN"
      },
      "source": [
        "# Classification on the [CIFAR-10](https://www.cs.toronto.edu/~kriz/cifar.html) dataset using SVM with Python's Scikit-Learn\n",
        "by [Zahra Taheri](https://github.com/zahta) (26 June 2020)"
      ]
    },
    {
      "cell_type": "markdown",
      "metadata": {
        "colab_type": "text",
        "id": "zJoxdQN0xLYP"
      },
      "source": [
        "### Preperation for Google colab"
      ]
    },
    {
      "cell_type": "code",
      "execution_count": null,
      "metadata": {
        "colab": {
          "base_uri": "https://localhost:8080/",
          "height": 122
        },
        "colab_type": "code",
        "id": "IwPpfl5z0mQT",
        "outputId": "1727c3a3-f2a3-4603-c6da-c7906265ebcb"
      },
      "outputs": [
        {
          "name": "stdout",
          "output_type": "stream",
          "text": [
            "Go to this URL in a browser: https://accounts.google.com/o/oauth2/auth?client_id=947318989803-6bn6qk8qdgf4n4g3pfee6491hc0brc4i.apps.googleusercontent.com&redirect_uri=urn%3aietf%3awg%3aoauth%3a2.0%3aoob&response_type=code&scope=email%20https%3a%2f%2fwww.googleapis.com%2fauth%2fdocs.test%20https%3a%2f%2fwww.googleapis.com%2fauth%2fdrive%20https%3a%2f%2fwww.googleapis.com%2fauth%2fdrive.photos.readonly%20https%3a%2f%2fwww.googleapis.com%2fauth%2fpeopleapi.readonly\n",
            "\n",
            "Enter your authorization code:\n",
            "··········\n",
            "Mounted at /content/drive\n"
          ]
        }
      ],
      "source": [
        "from google.colab import drive\n",
        "drive.mount('/content/drive')"
      ]
    },
    {
      "cell_type": "code",
      "execution_count": null,
      "metadata": {
        "colab": {
          "base_uri": "https://localhost:8080/",
          "height": 34
        },
        "colab_type": "code",
        "id": "Zg41tyStjIBj",
        "outputId": "0eef7bc8-6fbc-4d3f-9dd5-f3ae9b628974"
      },
      "outputs": [
        {
          "name": "stdout",
          "output_type": "stream",
          "text": [
            "unzip files!\n"
          ]
        }
      ],
      "source": [
        "#unzip dataset files from google drive to content folder in colab\n",
        "\n",
        "import os\n",
        "\n",
        "if os.path.exists(\"/content/cifar-10-batches-py/\")==False:\n",
        "  print(\"unzip files!\")\n",
        "  !unzip -q \"/content/drive/My Drive/cifar-10-batches-py.zip\"\n",
        "\n",
        "mypath=\"/content/cifar-10-batches-py/\""
      ]
    },
    {
      "cell_type": "code",
      "execution_count": null,
      "metadata": {
        "colab": {
          "base_uri": "https://localhost:8080/",
          "height": 34
        },
        "colab_type": "code",
        "id": "KR39sJ8l0mRk",
        "outputId": "0c5aeb9a-ae46-4ded-ebb9-a9ffa987cf0e"
      },
      "outputs": [
        {
          "name": "stdout",
          "output_type": "stream",
          "text": [
            "/content/cifar-10-batches-py\n"
          ]
        }
      ],
      "source": [
        "#Define path to the directory\n",
        " \n",
        "os.chdir(mypath)\n",
        "\n",
        "print(os.getcwd())"
      ]
    },
    {
      "cell_type": "markdown",
      "metadata": {
        "colab_type": "text",
        "id": "QfghEiqfxLYb"
      },
      "source": [
        "### Import libraries"
      ]
    },
    {
      "cell_type": "code",
      "execution_count": null,
      "metadata": {
        "colab": {},
        "colab_type": "code",
        "id": "qo1QqkwHxLYb"
      },
      "outputs": [],
      "source": [
        "import numpy as np\n",
        "import matplotlib.pyplot as plt\n",
        "\n",
        "np.random.seed(42)"
      ]
    },
    {
      "cell_type": "markdown",
      "metadata": {
        "colab_type": "text",
        "id": "0MPtnr2nxLYf"
      },
      "source": [
        "## Loading CIFAR-10"
      ]
    },
    {
      "cell_type": "code",
      "execution_count": null,
      "metadata": {
        "colab": {},
        "colab_type": "code",
        "id": "i7oOuVNXxLYf"
      },
      "outputs": [],
      "source": [
        "%run load_cifar10.py"
      ]
    },
    {
      "cell_type": "code",
      "execution_count": null,
      "metadata": {
        "colab": {
          "base_uri": "https://localhost:8080/",
          "height": 34
        },
        "colab_type": "code",
        "id": "Fu7BS0DYycgG",
        "outputId": "458858df-0cd7-4ee9-c484-26c8d935fec2"
      },
      "outputs": [
        {
          "name": "stdout",
          "output_type": "stream",
          "text": [
            "/content\n"
          ]
        }
      ],
      "source": [
        "#Define path to the directory\n",
        " \n",
        "os.chdir(\"/content/\")\n",
        "\n",
        "print(os.getcwd())"
      ]
    },
    {
      "cell_type": "code",
      "execution_count": null,
      "metadata": {
        "colab": {
          "base_uri": "https://localhost:8080/",
          "height": 136
        },
        "colab_type": "code",
        "id": "FsEzizhsxLYi",
        "outputId": "d29db7d3-8b1d-427b-8e3a-e685372c6f08"
      },
      "outputs": [
        {
          "name": "stdout",
          "output_type": "stream",
          "text": [
            "Train data:  (50000, 32, 32, 3)\n",
            "Train filenames:  (50000,)\n",
            "Train labels:  (50000,)\n",
            "Test data:  (10000, 32, 32, 3)\n",
            "Test filenames:  (10000,)\n",
            "Test labels:  (10000,)\n",
            "Label names:  (10,)\n"
          ]
        }
      ],
      "source": [
        "cifar_10_dir = 'cifar-10-batches-py'\n",
        "train_data, train_filenames, train_labels, test_data, test_filenames, test_labels, label_names = \\\n",
        "load_cifar_10_data(cifar_10_dir)\n",
        "print(\"Train data: \", train_data.shape)\n",
        "print(\"Train filenames: \", train_filenames.shape)\n",
        "print(\"Train labels: \", train_labels.shape)\n",
        "print(\"Test data: \", test_data.shape)\n",
        "print(\"Test filenames: \", test_filenames.shape)\n",
        "print(\"Test labels: \", test_labels.shape)\n",
        "print(\"Label names: \", label_names.shape)"
      ]
    },
    {
      "cell_type": "code",
      "execution_count": null,
      "metadata": {
        "colab": {
          "base_uri": "https://localhost:8080/",
          "height": 252
        },
        "colab_type": "code",
        "id": "YXncHfn-xLYl",
        "outputId": "508755e1-b804-40fd-a2d5-678b738cd432"
      },
      "outputs": [
        {
          "data": {
            "image/png": "[encoded data removed]",
            "text/plain": [
              "<Figure size 432x288 with 49 Axes>"
            ]
          },
          "metadata": {
            "needs_background": "light",
            "tags": []
          },
          "output_type": "display_data"
        }
      ],
      "source": [
        "# display some random training images\n",
        "num_plot = 7\n",
        "f, ax = plt.subplots(num_plot, num_plot)\n",
        "for m in range(num_plot):\n",
        "    for n in range(num_plot):\n",
        "        idx = np.random.randint(0, train_data.shape[0])\n",
        "        ax[m, n].imshow(train_data[idx])\n",
        "        ax[m, n].get_xaxis().set_visible(False)\n",
        "        ax[m, n].get_yaxis().set_visible(False)\n",
        "f.subplots_adjust(hspace=0.1)\n",
        "f.subplots_adjust(wspace=0)\n",
        "plt.show()"
      ]
    },
    {
      "cell_type": "markdown",
      "metadata": {
        "colab_type": "text",
        "id": "3s5fAfkYxLYp"
      },
      "source": [
        "## Preparation of the dataset"
      ]
    },
    {
      "cell_type": "code",
      "execution_count": null,
      "metadata": {
        "colab": {
          "base_uri": "https://localhost:8080/",
          "height": 34
        },
        "colab_type": "code",
        "id": "1jTpCN-AxLYp",
        "outputId": "cf36736d-6113-43de-ae09-fb1f50194280"
      },
      "outputs": [
        {
          "data": {
            "text/plain": [
              "(50000, 32, 32, 3)"
            ]
          },
          "execution_count": 9,
          "metadata": {
            "tags": []
          },
          "output_type": "execute_result"
        }
      ],
      "source": [
        "X_train = train_data.astype('float32')\n",
        "X_test = test_data.astype('float32')\n",
        "X_train  /= 255.0\n",
        "X_test /= 255.0\n",
        "\n",
        "y_train,y_test=train_labels,test_labels\n",
        "X_train.shape"
      ]
    },
    {
      "cell_type": "code",
      "execution_count": null,
      "metadata": {
        "colab": {},
        "colab_type": "code",
        "id": "E52IWyMlxLYs"
      },
      "outputs": [],
      "source": [
        "nsamples, a,b,c = X_train.shape\n",
        "X_train= X_train.reshape((nsamples,a*b*c))\n",
        "nsamples, a,b,c = X_test.shape\n",
        "X_test= X_test.reshape((nsamples,a*b*c))"
      ]
    },
    {
      "cell_type": "code",
      "execution_count": null,
      "metadata": {
        "colab": {
          "base_uri": "https://localhost:8080/",
          "height": 34
        },
        "colab_type": "code",
        "id": "pxEZU39FxLYv",
        "outputId": "89f13b2b-545e-4230-ab0b-2d200f2f3d48"
      },
      "outputs": [
        {
          "data": {
            "text/plain": [
              "(50000, 3072)"
            ]
          },
          "execution_count": 11,
          "metadata": {
            "tags": []
          },
          "output_type": "execute_result"
        }
      ],
      "source": [
        "X_train.shape"
      ]
    },
    {
      "cell_type": "code",
      "execution_count": null,
      "metadata": {
        "colab": {},
        "colab_type": "code",
        "id": "4sB1m3sDxLYy"
      },
      "outputs": [],
      "source": [
        "#from sklearn import preprocessing\n",
        "\n",
        "#std_scale = preprocessing.StandardScaler()\n",
        "#X_train = std_scale.fit_transform(X_train)\n",
        "#X_test = std_scale.fit_transform(X_test)\n",
        "\n",
        "#minmax_scale = preprocessing.MinMaxScaler()\n",
        "#X_train = minmax_scale.fit_transform(X_train)\n",
        "#X_test = minmax_scale.fit_transform(X_test)"
      ]
    },
    {
      "cell_type": "markdown",
      "metadata": {
        "colab_type": "text",
        "id": "7KJx14EzKk91"
      },
      "source": [
        "## Train and test Support vector machine models"
      ]
    },
    {
      "cell_type": "code",
      "execution_count": null,
      "metadata": {
        "colab": {},
        "colab_type": "code",
        "id": "yBUeJ815xLY1"
      },
      "outputs": [],
      "source": [
        "from sklearn.svm import SVC\n",
        "from sklearn.metrics import accuracy_score "
      ]
    },
    {
      "cell_type": "markdown",
      "metadata": {
        "colab_type": "text",
        "id": "tmrSF-PxaQBa"
      },
      "source": [
        "## Execusion time for the rest cells of this section: 12 hours \n",
        "\n",
        "## Output of the colab: None "
      ]
    },
    {
      "cell_type": "code",
      "execution_count": null,
      "metadata": {
        "colab": {},
        "colab_type": "code",
        "id": "pymX3eW_iiIL"
      },
      "outputs": [],
      "source": [
        "svm_clf1 = SVC(C=1, kernel=\"linear\", random_state=42)\n",
        "svm_clf1.fit(X_train, y_train)\n",
        "y_pred = svm_clf1.predict(X_test)\n",
        "print(svm_clf1.__class__.__name__, accuracy_score(y_test, y_pred))"
      ]
    },
    {
      "cell_type": "code",
      "execution_count": null,
      "metadata": {
        "colab": {},
        "colab_type": "code",
        "id": "XAQaKA1KxLY6"
      },
      "outputs": [],
      "source": [
        "svm_clf2 = SVC(C=1, kernel=\"poly\", random_state=42)\n",
        "svm_clf2.fit(X_train, y_train)\n",
        "y_pred = svm_clf2.predict(X_test)\n",
        "print(svm_clf2.__class__.__name__, accuracy_score(y_test, y_pred))"
      ]
    },
    {
      "cell_type": "code",
      "execution_count": null,
      "metadata": {
        "colab": {},
        "colab_type": "code",
        "id": "b4uEDpXzxLY9"
      },
      "outputs": [],
      "source": [
        "svm_clf3 = SVC(C=1, kernel=\"rbf\", random_state=42)\n",
        "svm_clf3.fit(X_train, y_train)\n",
        "y_pred = svm_clf3.predict(X_test)\n",
        "print(svm_clf3.__class__.__name__, accuracy_score(y_test, y_pred))"
      ]
    },
    {
      "cell_type": "code",
      "execution_count": null,
      "metadata": {
        "colab": {},
        "colab_type": "code",
        "id": "BQj9tH9rxLZC"
      },
      "outputs": [],
      "source": [
        "svm_clf4 = SVC(C=0.1, kernel=\"linear\", random_state=42)\n",
        "svm_clf4.fit(X_train, y_train)\n",
        "y_pred = svm_clf4.predict(X_test)\n",
        "print(svm_clf4.__class__.__name__, accuracy_score(y_test, y_pred))"
      ]
    },
    {
      "cell_type": "code",
      "execution_count": null,
      "metadata": {
        "colab": {},
        "colab_type": "code",
        "id": "U93S_4D_xLZF"
      },
      "outputs": [],
      "source": [
        "svm_clf5 = SVC(C=0.1, kernel=\"poly\", random_state=42)\n",
        "svm_clf5.fit(X_train, y_train)\n",
        "y_pred = svm_clf5.predict(X_test)\n",
        "print(svm_clf5.__class__.__name__, accuracy_score(y_test, y_pred))"
      ]
    },
    {
      "cell_type": "code",
      "execution_count": null,
      "metadata": {
        "colab": {},
        "colab_type": "code",
        "id": "I2EohZGgxLZI"
      },
      "outputs": [],
      "source": [
        "svm_clf6 = SVC(C=0.1, kernel=\"rbf\", random_state=42)\n",
        "svm_clf6.fit(X_train, y_train)\n",
        "y_pred = svm_clf6.predict(X_test)\n",
        "print(svm_clf6.__class__.__name__, accuracy_score(y_test, y_pred))"
      ]
    },
    {
      "cell_type": "code",
      "execution_count": null,
      "metadata": {
        "colab": {},
        "colab_type": "code",
        "id": "TQOY0XcDxLZM"
      },
      "outputs": [],
      "source": [
        "#svm_clf7 = SVC(C=10, kernel=\"linear\", random_state=42)\n",
        "#svm_clf7.fit(X_train, y_train)\n",
        "#y_pred = svm_clf7.predict(X_test)\n",
        "#print(svm_clf7.__class__.__name__, accuracy_score(y_test, y_pred))"
      ]
    },
    {
      "cell_type": "code",
      "execution_count": null,
      "metadata": {
        "colab": {},
        "colab_type": "code",
        "id": "Nx9p6VA9xLZP"
      },
      "outputs": [],
      "source": [
        "svm_clf8 = SVC(C=0.01, kernel=\"linear\", random_state=42)\n",
        "svm_clf8.fit(X_train, y_train)\n",
        "y_pred = svm_clf8.predict(X_test)\n",
        "print(svm_clf8.__class__.__name__, accuracy_score(y_test, y_pred))"
      ]
    },
    {
      "cell_type": "markdown",
      "metadata": {
        "colab_type": "text",
        "id": "va5DJE03xLZR"
      },
      "source": [
        "##  With Principal Component Analysis (PCA)"
      ]
    },
    {
      "cell_type": "code",
      "execution_count": null,
      "metadata": {
        "colab": {},
        "colab_type": "code",
        "id": "9J6m8KLgxLZR"
      },
      "outputs": [],
      "source": [
        "from sklearn.decomposition import PCA\n",
        "\n",
        "pca = PCA(n_components=0.95)\n",
        "\n",
        "X_train = pca.fit_transform(X_train)\n",
        "X_test = pca.transform(X_test)"
      ]
    },
    {
      "cell_type": "code",
      "execution_count": null,
      "metadata": {
        "colab": {
          "base_uri": "https://localhost:8080/",
          "height": 34
        },
        "colab_type": "code",
        "id": "oFW75WHexLZU",
        "outputId": "940aed3f-5620-4f14-9b4d-b19eb26da194"
      },
      "outputs": [
        {
          "data": {
            "text/plain": [
              "(50000, 103)"
            ]
          },
          "execution_count": 16,
          "metadata": {
            "tags": []
          },
          "output_type": "execute_result"
        }
      ],
      "source": [
        "X_train.shape"
      ]
    },
    {
      "cell_type": "code",
      "execution_count": null,
      "metadata": {
        "colab": {
          "base_uri": "https://localhost:8080/",
          "height": 34
        },
        "colab_type": "code",
        "id": "i9S7cEzbxLZW",
        "outputId": "15e2ee51-2348-4edd-e5f7-3a77c4a4189f"
      },
      "outputs": [
        {
          "name": "stdout",
          "output_type": "stream",
          "text": [
            "SVC 0.4079\n"
          ]
        }
      ],
      "source": [
        "svm_clf1 = SVC(C=1, kernel=\"linear\", random_state=42)\n",
        "svm_clf1.fit(X_train, y_train)\n",
        "y_pred = svm_clf1.predict(X_test)\n",
        "print(svm_clf1.__class__.__name__, accuracy_score(y_test, y_pred))"
      ]
    },
    {
      "cell_type": "code",
      "execution_count": null,
      "metadata": {
        "colab": {
          "base_uri": "https://localhost:8080/",
          "height": 34
        },
        "colab_type": "code",
        "id": "ww0i7TxlxLZY",
        "outputId": "21826cab-f290-431b-f3aa-e6f572f850c3"
      },
      "outputs": [
        {
          "name": "stdout",
          "output_type": "stream",
          "text": [
            "SVC 0.4638\n"
          ]
        }
      ],
      "source": [
        "svm_clf2 = SVC(C=1, kernel=\"poly\", random_state=42)\n",
        "svm_clf2.fit(X_train, y_train)\n",
        "y_pred = svm_clf2.predict(X_test)\n",
        "print(svm_clf2.__class__.__name__, accuracy_score(y_test, y_pred))"
      ]
    },
    {
      "cell_type": "code",
      "execution_count": null,
      "metadata": {
        "colab": {
          "base_uri": "https://localhost:8080/",
          "height": 34
        },
        "colab_type": "code",
        "id": "1rzxjdlhxLZb",
        "outputId": "51210008-9b88-4266-e87a-1644faa89bdf"
      },
      "outputs": [
        {
          "name": "stdout",
          "output_type": "stream",
          "text": [
            "SVC 0.5396\n"
          ]
        }
      ],
      "source": [
        "svm_clf3 = SVC(C=1, kernel=\"rbf\", random_state=42)\n",
        "svm_clf3.fit(X_train, y_train)\n",
        "y_pred = svm_clf3.predict(X_test)\n",
        "print(svm_clf3.__class__.__name__, accuracy_score(y_test, y_pred))"
      ]
    },
    {
      "cell_type": "code",
      "execution_count": null,
      "metadata": {
        "colab": {
          "base_uri": "https://localhost:8080/",
          "height": 34
        },
        "colab_type": "code",
        "id": "bOP7_elnxLZf",
        "outputId": "3527b8e9-7330-4d5f-904a-ece247843dcb"
      },
      "outputs": [
        {
          "name": "stdout",
          "output_type": "stream",
          "text": [
            "SVC 0.4085\n"
          ]
        }
      ],
      "source": [
        "svm_clf4 = SVC(C=0.1, kernel=\"linear\", random_state=42)\n",
        "svm_clf4.fit(X_train, y_train)\n",
        "y_pred = svm_clf4.predict(X_test)\n",
        "print(svm_clf4.__class__.__name__, accuracy_score(y_test, y_pred))"
      ]
    },
    {
      "cell_type": "code",
      "execution_count": null,
      "metadata": {
        "colab": {
          "base_uri": "https://localhost:8080/",
          "height": 34
        },
        "colab_type": "code",
        "id": "4DuRq-uBxLZh",
        "outputId": "e849bb49-c50e-43b5-88b8-4333bb31c907"
      },
      "outputs": [
        {
          "name": "stdout",
          "output_type": "stream",
          "text": [
            "SVC 0.3981\n"
          ]
        }
      ],
      "source": [
        "svm_clf5 = SVC(C=0.1, kernel=\"poly\", random_state=42)\n",
        "svm_clf5.fit(X_train, y_train)\n",
        "y_pred = svm_clf5.predict(X_test)\n",
        "print(svm_clf5.__class__.__name__, accuracy_score(y_test, y_pred))"
      ]
    },
    {
      "cell_type": "code",
      "execution_count": null,
      "metadata": {
        "colab": {
          "base_uri": "https://localhost:8080/",
          "height": 34
        },
        "colab_type": "code",
        "id": "Ird1McWMxLZj",
        "outputId": "ad6af5bd-af82-4d36-85e8-65672cd0752c"
      },
      "outputs": [
        {
          "name": "stdout",
          "output_type": "stream",
          "text": [
            "SVC 0.463\n"
          ]
        }
      ],
      "source": [
        "svm_clf6 = SVC(C=0.1, kernel=\"rbf\", random_state=42)\n",
        "svm_clf6.fit(X_train, y_train)\n",
        "y_pred = svm_clf6.predict(X_test)\n",
        "print(svm_clf6.__class__.__name__, accuracy_score(y_test, y_pred))"
      ]
    },
    {
      "cell_type": "code",
      "execution_count": null,
      "metadata": {
        "colab": {
          "base_uri": "https://localhost:8080/",
          "height": 34
        },
        "colab_type": "code",
        "id": "bexgaHGYxLZo",
        "outputId": "6a917a5d-e2de-4065-b700-da84dfe636de"
      },
      "outputs": [
        {
          "name": "stdout",
          "output_type": "stream",
          "text": [
            "SVC 0.4115\n"
          ]
        }
      ],
      "source": [
        "svm_clf8 = SVC(C=0.01, kernel=\"linear\", random_state=42)\n",
        "svm_clf8.fit(X_train, y_train)\n",
        "y_pred = svm_clf8.predict(X_test)\n",
        "print(svm_clf8.__class__.__name__, accuracy_score(y_test, y_pred))"
      ]
    }
  ],
  "metadata": {
    "colab": {
      "collapsed_sections": [],
      "name": "classification_cifar_10_svm.ipynb",
      "provenance": []
    },
    "kernelspec": {
      "display_name": "Python 3.8.2",
      "language": "python",
      "name": "py38"
    },
    "language_info": {
      "codemirror_mode": {
        "name": "ipython",
        "version": 3
      },
      "file_extension": ".py",
      "mimetype": "text/x-python",
      "name": "python",
      "nbconvert_exporter": "python",
      "pygments_lexer": "ipython3",
      "version": "3.8.2"
    }
  },
  "nbformat": 4,
  "nbformat_minor": 0
}
